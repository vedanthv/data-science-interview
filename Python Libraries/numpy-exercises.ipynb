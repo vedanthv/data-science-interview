{
 "cells": [
  {
   "attachments": {},
   "cell_type": "markdown",
   "metadata": {},
   "source": [
    "## Numpy Exercises and Practice"
   ]
  },
  {
   "attachments": {},
   "cell_type": "markdown",
   "metadata": {},
   "source": [
    "### Basic Problems"
   ]
  },
  {
   "cell_type": "code",
   "execution_count": null,
   "metadata": {},
   "outputs": [],
   "source": [
    "# print the version of numpy\n",
    "import numpy as np\n",
    "print(np.__version__)\n",
    "\n",
    "# get info of add function\n",
    "print(np.info(np.add))"
   ]
  },
  {
   "cell_type": "code",
   "execution_count": null,
   "metadata": {},
   "outputs": [],
   "source": [
    "# test if none of the elements are zero or not\n",
    "\n",
    "x = np.array([1, 2, 3, 4])\n",
    "print(\"Original array:\")\n",
    "print(x)\n",
    "print(\"Test if none of the elements of the said array is zero:\")\n",
    "print(np.all(x))\n",
    "x = np.array([0, 1, 2, 3])\n",
    "print(\"Original array:\")\n",
    "print(x)\n",
    "print(\"Test if none of the elements of the said array is zero:\")\n",
    "print(np.all(x)) # False"
   ]
  },
  {
   "cell_type": "code",
   "execution_count": null,
   "metadata": {},
   "outputs": [],
   "source": [
    "# check whether the array elements are inf or not\n",
    "\n",
    "a = np.array([1, 0, np.nan, np.inf])\n",
    "print(\"Original array\")\n",
    "print(a)\n",
    "print(\"Test element-wise for positive or negative infinity:\")\n",
    "print(np.isinf(a))"
   ]
  },
  {
   "cell_type": "code",
   "execution_count": null,
   "metadata": {},
   "outputs": [],
   "source": [
    "# check whether the elements are within a tolerance or not\n",
    "\n",
    "print(\"Test if two arrays are element-wise equal within a tolerance:\")\n",
    "print(np.allclose([1e10,1e-7], [1.00001e10,1e-8]))\n",
    "print(np.allclose([1e10,1e-8], [1.00001e10,1e-9]))\n",
    "print(np.allclose([1e10,1e-8], [1.0001e10,1e-9]))\n",
    "print(np.allclose([1.0, np.nan], [1.0, np.nan]))\n",
    "print(np.allclose([1.0, np.nan], [1.0, np.nan], equal_nan=True))"
   ]
  },
  {
   "cell_type": "code",
   "execution_count": null,
   "metadata": {},
   "outputs": [],
   "source": [
    "# elementwise relational operation check\n",
    "\n",
    "x = np.array([3, 5])\n",
    "y = np.array([2, 5])\n",
    "print(\"Original numbers:\")\n",
    "print(x)\n",
    "print(y)\n",
    "print(\"Comparison - greater\")\n",
    "print(np.greater(x, y))\n",
    "print(\"Comparison - greater_equal\")\n",
    "print(np.greater_equal(x, y))\n",
    "print(\"Comparison - less\")\n",
    "print(np.less(x, y))\n",
    "print(\"Comparison - less_equal\")\n",
    "print(np.less_equal(x, y))"
   ]
  },
  {
   "cell_type": "code",
   "execution_count": null,
   "metadata": {},
   "outputs": [],
   "source": [
    "# check size of array\n",
    "X = np.array([1, 7, 13, 105])\n",
    "print(\"Original array:\")\n",
    "print(X)\n",
    "print(\"Size of the memory occupied by the said array:\")\n",
    "print(\"%d bytes\" % (X.size * X.itemsize))"
   ]
  },
  {
   "cell_type": "code",
   "execution_count": null,
   "metadata": {},
   "outputs": [],
   "source": [
    "# generate array of 15 random numbers\n",
    "rand_num = np.random.normal(0,1,15)\n",
    "print(\"15 random numbers from a standard normal distribution:\")\n",
    "print(rand_num)"
   ]
  },
  {
   "cell_type": "code",
   "execution_count": null,
   "metadata": {},
   "outputs": [],
   "source": [
    "# reshape a 1d array\n",
    "a = np.arange(10,22).reshape((3, 4))\n",
    "print(\"Original array:\")\n",
    "print(a)\n",
    "print(\"Each element of the array is:\")\n",
    "for x in np.nditer(a):\n",
    "  print(x,end=\" \")"
   ]
  },
  {
   "cell_type": "code",
   "execution_count": null,
   "metadata": {},
   "outputs": [],
   "source": [
    "# change element sign within range\n",
    "\n",
    "x = np.arange(21)\n",
    "print(\"Original vector:\")\n",
    "print(x)\n",
    "print(\"After changing the sign of the numbers in the range from 9 to 15:\")\n",
    "x[(x >= 9) & (x <= 15)] *= -1\n",
    "print(x)"
   ]
  },
  {
   "cell_type": "code",
   "execution_count": null,
   "metadata": {},
   "outputs": [],
   "source": [
    "# create a diagonal matrix\n",
    "\n",
    "x = np.eye(3)\n",
    "print(x)"
   ]
  },
  {
   "cell_type": "code",
   "execution_count": null,
   "metadata": {},
   "outputs": [],
   "source": [
    "# swap rows and columns of array in reverse order\n",
    "\n",
    "import numpy as np\n",
    "nums = np.array([[[1, 2, 3, 4],\n",
    "               [0, 1, 3, 4],\n",
    "               [90, 91, 93, 94],\n",
    "               [5, 0, 3, 2]]])\n",
    "print(\"Original array:\")\n",
    "print(nums)\n",
    "print(\"\\nSwap rows and columns of the said array in reverse order:\")\n",
    "new_nums = print(nums[::-1, ::-1])\n",
    "print(new_nums)"
   ]
  },
  {
   "cell_type": "code",
   "execution_count": null,
   "metadata": {},
   "outputs": [],
   "source": [
    "# fill a numpy array with 0\n",
    "\n",
    "import numpy as np\n",
    "nums = np.array([[[1, 2, 3, 4],\n",
    "               [0, 1, 3, 4],\n",
    "               [90, 91, 93, 94],\n",
    "               [5, 0, 3, 2]]])\n",
    "print(\"Original array:\")\n",
    "print(nums)\n",
    "print(\"\\nSwap rows and columns of the said array in reverse order:\")\n",
    "new_nums = print(nums[::-1, ::-1])\n",
    "print(new_nums)"
   ]
  },
  {
   "attachments": {},
   "cell_type": "markdown",
   "metadata": {},
   "source": [
    "### Array Problems"
   ]
  },
  {
   "cell_type": "code",
   "execution_count": null,
   "metadata": {},
   "outputs": [],
   "source": [
    "# Write a NumPy program to extract all the rows to compute the student weight from a given array (student information) where a specific column starts with a given character.\n",
    "\n",
    "student =  np.array([['01', 'V', 'Debby Pramod', 30.21],\n",
    " ['02', 'V', 'Artemiy Ellie', 29.32],\n",
    " ['03', 'V', 'Baptist Kamal', 31.00],\n",
    " ['04', 'V', 'Lavanya Davide', 30.22],\n",
    " ['05', 'V', 'Fulton Antwan', 30.21],\n",
    " ['06', 'V', 'Euanthe Sandeep', 31.00],\n",
    " ['07', 'V', 'Endzela Sanda', 32.00],\n",
    " ['08', 'V', 'Victoire Waman', 29.21],\n",
    " ['09', 'V', 'Briar Nur', 30.00],\n",
    " ['10', 'V', 'Rose Lykos', 32.00]])\n",
    "print(\"Original array:\")\n",
    "print(student)\n",
    "\n",
    "char='E'\n",
    "result = student[np.char.startswith(student[:,2], char)]\n",
    "\n",
    "print(\"\\nTotal weight, where student name starting with\",char)\n",
    "print(np.round(result[:, 3].astype(float).sum(), 2))"
   ]
  },
  {
   "cell_type": "code",
   "execution_count": null,
   "metadata": {},
   "outputs": [],
   "source": [
    "## Shuffle Specific Rows[3rd to 9th] of Array\n",
    "\n",
    "np.random.seed(42) \n",
    "student = np.array([['stident_id', 'Class', 'Name'],\n",
    "              ['01', 'V', 'Debby Pramod'],\n",
    "              ['02', 'V', 'Artemiy Ellie'],\n",
    "              ['03', 'V', 'Baptist Kamal'],\n",
    "              ['04', 'V', 'Lavanya Davide'],\n",
    "              ['05', 'V', 'Fulton Antwan'],\n",
    "              ['06', 'V', 'Euanthe Sandeep'],\n",
    "              ['07', 'V', 'Endzela Sanda'],\n",
    "              ['08', 'V', 'Victoire Waman'],\n",
    "              ['09', 'V', 'Briar Nur'],\n",
    "              ['10', 'V', 'Rose Lykos']]) \n",
    "print(\"Original array:\")\n",
    "print(student)\n",
    "np.random.shuffle(student[2:8])\n",
    "print(\"Shuffle the said array rows starting from 3rd to 9th\")\n",
    "print(student)\n"
   ]
  },
  {
   "cell_type": "code",
   "execution_count": null,
   "metadata": {},
   "outputs": [],
   "source": [
    "# Calculate the arithmetic means of corresponding elements of two given arrays of same size\n",
    "\n",
    "nums1 = np.array([[2, 5, 2],\n",
    "              [1, 5, 5]])\n",
    "nums2 = np.array([[5, 3, 4],\n",
    "              [3, 2, 5]])\n",
    "print(\"Array1:\") \n",
    "print(nums1)\n",
    "print(\"Array2:\") \n",
    "print(nums2)\n",
    "print(\"\\nArithmetic means of corresponding elements of said two arrays:\")\n",
    "print(np.divide(np.add(nums1, nums2), 2))"
   ]
  },
  {
   "cell_type": "code",
   "execution_count": null,
   "metadata": {},
   "outputs": [],
   "source": [
    "# Write a NumPy program to remove a specific column from a given array.\n",
    "\n",
    "import numpy as np \n",
    "nums = np.random.random((7, 5))\n",
    "print(\"Original array:\")\n",
    "print(nums)\n",
    "print(\"\\nDelete the first column of the said array:\")\n",
    "print(np.delete(nums, [0], axis=1))\n",
    "print(\"\\nDelete the last column of the said array:\")\n",
    "print(np.delete(nums, [4], axis=1))"
   ]
  },
  {
   "cell_type": "code",
   "execution_count": null,
   "metadata": {},
   "outputs": [],
   "source": [
    "# Write a NumPy program to create a 10x4 array filled with random floating point number values with and set the array values with specified precision.\n",
    "\n",
    "import numpy as np \n",
    "nums = np.random.randn(10, 4)\n",
    "print(\"Original arrays:\")\n",
    "print(nums)\n",
    "print(\"Set the array values with specified precision:\")\n",
    "np.set_printoptions(precision=4)\n",
    "print(nums)"
   ]
  },
  {
   "cell_type": "code",
   "execution_count": null,
   "metadata": {},
   "outputs": [],
   "source": [
    "# Write a NumPy program to create to concatenate two given arrays of shape (2, 2) and (2,1).\n",
    "\n",
    "import numpy as np \n",
    "nums1 = np.array([[4.5, 3.5],\n",
    "                 [5.1, 2.3]])\n",
    "nums2 = np.array([[1],\n",
    "                  [2]])\n",
    "print(\"Original arrays:\")\n",
    "print(nums1)\n",
    "print(nums2)\n",
    "print(\"\\nConcatenating the said two arrays:\")\n",
    "print(np.concatenate((nums1, nums2), axis=1))"
   ]
  },
  {
   "cell_type": "code",
   "execution_count": null,
   "metadata": {},
   "outputs": [],
   "source": [
    "# Write a NumPy program to create a 12x12x4 array with random values and extract any array of shape (6,6,3) from the said array.\n",
    "\n",
    "import numpy as np \n",
    "nums = np.random.random((8,8,3))\n",
    "print(\"Original array:\")\n",
    "print(nums)\n",
    "print(\"\\nExtract array of shape (6,6,3) from the said array:\")\n",
    "new_nums = nums[:6, :6, :]\n",
    "print(new_nums)"
   ]
  },
  {
   "cell_type": "code",
   "execution_count": null,
   "metadata": {},
   "outputs": [],
   "source": [
    "# Write a NumPy program to create two arrays with shape (300,400, 5), fill values using unsigned integer (0 to 255). Insert a new axis that will appear at the beginning in the expanded array shape. Now combine the said two arrays into one.\n",
    "\n",
    "import numpy as np \n",
    "nums1 = np.random.randint(low=0, high=256, size=(200, 300, 3), dtype=np.uint8)\n",
    "nums2 = np.random.randint(low=0, high=256, size=(200, 300, 3), dtype=np.uint8)\n",
    "print(\"Array1:\") \n",
    "print(nums1) \n",
    "print(\"\\nArray2:\") \n",
    "print(nums2) \n",
    "nums1 = np.expand_dims(nums1, axis=0)\n",
    "nums2 = np.expand_dims(nums2, axis=0)\n",
    "nums = np.append(nums1, nums2, axis=0)\n",
    "print(\"\\nCombined array:\")\n",
    "print(nums)"
   ]
  },
  {
   "cell_type": "code",
   "execution_count": null,
   "metadata": {},
   "outputs": [],
   "source": [
    "# Binary representation of Numpy Array\n",
    "\n",
    "import numpy as np\n",
    "nums = np.array([0, 1, 3, 5, 7, 9, 11, 13, 15])\n",
    "print(\"Original vector:\")\n",
    "print(nums)\n",
    "bin_nums = ((nums.reshape(-1,1) & (2**np.arange(8))) != 0).astype(int)\n",
    "print(\"\\nBinary representation of the said vector:\")\n",
    "print(bin_nums[:,::-1])"
   ]
  },
  {
   "cell_type": "code",
   "execution_count": null,
   "metadata": {},
   "outputs": [],
   "source": [
    "# Write a NumPy program to create a new vector with 2 consecutive 0 between two values of a given vector.\n",
    "\n",
    "nums = np.array([1,2,3,4,5,6,7,8])\n",
    "print(\"Original array:\")\n",
    "print(nums)\n",
    "p = 2\n",
    "new_num = np.zeros(len(nums)+(len(nums)-1*p))\n",
    "new_num[::p+1] = nums"
   ]
  },
  {
   "cell_type": "code",
   "execution_count": null,
   "metadata": {},
   "outputs": [],
   "source": [
    "# Write a NumPy program to create an array of 4,5 shape and swap column1 with column4.\n",
    "\n",
    "array_nums = np.arange(20).reshape(4,5)\n",
    "print(\"Original array:\")\n",
    "print(array_nums)\n",
    "print(\"\\nAfter swapping column1 with column4:\")\n",
    "array_nums[:,[0,3]] = array_nums[:,[3,0]]\n",
    "print(array_nums)"
   ]
  },
  {
   "cell_type": "code",
   "execution_count": null,
   "metadata": {},
   "outputs": [],
   "source": [
    "# Write a NumPy program to search the index of a given array in another given array.\n",
    "\n",
    "import numpy as np\n",
    "np_array = np.array([[1,2,3], [4,5,6] , [7,8,9], [10, 11, 12]])\n",
    "test_array = np.array([4,5,6])\n",
    "print(\"Original Numpy array:\")\n",
    "print(np_array)\n",
    "print(\"Searched array:\")\n",
    "print(test_array)\n",
    "print(\"Index of the searched array in the original array:\")\n",
    "print(np.where((np_array == test_array).all(1))[0])"
   ]
  },
  {
   "cell_type": "code",
   "execution_count": null,
   "metadata": {},
   "outputs": [],
   "source": [
    "# Write a NumPy program to create an array which is the average of every consecutive triplet of elements in a given array.\n",
    "\n",
    "import numpy as np\n",
    "arr1 = np.array([1,2,3, 2,4,6, 1,2,12, 0,-12,6])\n",
    "print(\"Original array:\")\n",
    "print(arr1)\n",
    "result = np.mean(arr1.reshape(4, 3), axis=1)\n",
    "print(\"Average of every consecutive triplet of elements of the said array:\")\n",
    "print(result)\n"
   ]
  },
  {
   "cell_type": "code",
   "execution_count": null,
   "metadata": {},
   "outputs": [],
   "source": [
    "# Write a NumPy program to find and store non-zero unique rows in an array after comparing each row with other row in a given matrix.\n",
    "\n",
    "import numpy as np\n",
    "arra = np.array([[ 1,  1,  0],\n",
    "                 [ 0,  0,  0],\n",
    "                 [ 0,  2,  3],\n",
    "                 [ 0,  0,  0],\n",
    "                 [ 0, -1,  1],\n",
    "                 [ 0,  0,  0]])\n",
    "                 \n",
    "present = {(0,0,0)}\n",
    "\n",
    "res = []\n",
    "\n",
    "for row in arra:\n",
    "    if tuple(row) in present:\n",
    "      continue\n",
    "    else:\n",
    "      res.append(row)\n",
    "      present.update(row)\n",
    "\n",
    "print(res)\n"
   ]
  },
  {
   "cell_type": "code",
   "execution_count": null,
   "metadata": {},
   "outputs": [],
   "source": [
    "# Write a NumPy program to fetch all items from a given array of 4,5 shape which are either greater than 6 and a multiple of 3.\n",
    "\n",
    "array_nums1 = np.arange(20).reshape(4,5)\n",
    "print(\"Original arrays:\")\n",
    "print(array_nums1)\n",
    "result = array_nums1[(array_nums1>6) & (array_nums1%3==0)]\n",
    "print(\"\\nItems greater than 6 and a multiple of 3 of the said array:\")\n",
    "print(result)"
   ]
  },
  {
   "cell_type": "code",
   "execution_count": null,
   "metadata": {},
   "outputs": [],
   "source": [
    "# Write a NumPy program to find the 4th element of a specified array.\n",
    "\n",
    "x = np.array([[2, 4, 6], [6, 8, 10]], np.int32)\n",
    "x = np.ravel(x)\n",
    "\n",
    "print(x[3])"
   ]
  },
  {
   "cell_type": "code",
   "execution_count": null,
   "metadata": {},
   "outputs": [],
   "source": [
    "# Write a NumPy program to change two array axes.\n",
    "\n",
    "x = np.array([[1,2,3]])\n",
    "print(x)\n",
    "y =  np.swapaxes(x,0,1)\n",
    "print(y)"
   ]
  },
  {
   "cell_type": "code",
   "execution_count": null,
   "metadata": {},
   "outputs": [],
   "source": [
    "# write a numpy program to move axes\n",
    "\n",
    "import numpy as np\n",
    "x = np.zeros((2, 3, 4))\n",
    "print(np.moveaxis(x, 0, -1).shape) # move first axis to last position\n",
    "print(np.moveaxis(x, -1, 0).shape)"
   ]
  },
  {
   "cell_type": "code",
   "execution_count": null,
   "metadata": {},
   "outputs": [],
   "source": [
    "# Write a NumPy program to create a 2-D array whose diagonal equals [4, 5, 6, 8] and 0's elsewhere.\n",
    "\n",
    "x =  np.diagflat([4, 5, 6, 8])\n",
    "print(x)"
   ]
  },
  {
   "cell_type": "code",
   "execution_count": null,
   "metadata": {},
   "outputs": [],
   "source": [
    "# Write a NumPy program to change an array's data type.\n",
    "\n",
    "x = np.array([[2, 4, 6], [6, 8, 10]], np.int32)\n",
    "print(x)\n",
    "print(\"Data type of the array x is:\",x.dtype)\n",
    "# Change the data type of x\n",
    "y = x.astype(float)\n",
    "print(\"New Type: \",y.dtype)\n",
    "print(y)\n"
   ]
  },
  {
   "cell_type": "code",
   "execution_count": null,
   "metadata": {},
   "outputs": [],
   "source": [
    "# Write a NumPy program to find the indices of the maximum and minimum values along the given axis of an array.\n",
    "\n"
   ]
  }
 ],
 "metadata": {
  "language_info": {
   "name": "python"
  },
  "orig_nbformat": 4
 },
 "nbformat": 4,
 "nbformat_minor": 2
}
